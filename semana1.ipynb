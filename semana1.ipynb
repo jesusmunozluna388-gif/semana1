{
  "nbformat": 4,
  "nbformat_minor": 0,
  "metadata": {
    "colab": {
      "provenance": [],
      "authorship_tag": "ABX9TyNEvIdQXB1vkCV2tZhf33P7",
      "include_colab_link": true
    },
    "kernelspec": {
      "name": "python3",
      "display_name": "Python 3"
    },
    "language_info": {
      "name": "python"
    }
  },
  "cells": [
    {
      "cell_type": "markdown",
      "metadata": {
        "id": "view-in-github",
        "colab_type": "text"
      },
      "source": [
        "<a href=\"https://colab.research.google.com/github/jesusmunozluna388-gif/semana1/blob/main/semana1.ipynb\" target=\"_parent\"><img src=\"https://colab.research.google.com/assets/colab-badge.svg\" alt=\"Open In Colab\"/></a>"
      ]
    },
    {
      "cell_type": "code",
      "execution_count": null,
      "metadata": {
        "colab": {
          "base_uri": "https://localhost:8080/"
        },
        "id": "ztaXr_VP87xw",
        "outputId": "1e880f63-d258-4eb2-fc5a-e5f829436789"
      },
      "outputs": [
        {
          "output_type": "stream",
          "name": "stdout",
          "text": [
            "Datos del Estudiante:\n",
            "Nombre: Juan Pérez\n",
            "Edad: 20 años\n"
          ]
        }
      ],
      "source": [
        " # 1. Variables y tipos de datos\n",
        " nombre_estudiante = \"Juan Pérez\"\n",
        " edad = 20\n",
        " promedio = 4.2\n",
        " es_regular = True\n",
        " # 2. La función print() para mostrar información\n",
        " print(\"Datos del Estudiante:\")\n",
        " print(\"Nombre:\", nombre_estudiante)\n",
        " print(f\"Edad: {edad} años\") # Usando f-strings, una forma moderna y útil\n",
        " # 3. La función input() para recibir datos del usuario\n",
        " asignatura_favorita = input(\"¿Cuál es tu asignatura favorita? \")\n",
        " print(f\"¡Qué bien! Tu asignatura favorita es {asignatura_favorita}.\")\n",
        ""
      ]
    },
    {
      "cell_type": "code",
      "source": [
        "# Define two numbers\n",
        "num1 = 10\n",
        "num2 = 5\n",
        "\n",
        "# Perform arithmetic operations\n",
        "suma = num1 + num2\n",
        "resta = num1 - num2\n",
        "multiplicacion = num1 * num2\n",
        "division = num1 / num2\n",
        "\n",
        "# Print the results\n",
        "print(f\"La suma de {num1} y {num2} es: {suma}\")\n",
        "print(f\"La resta de {num1} y {num2} es: {resta}\")\n",
        "print(f\"La multiplicación de {num1} y {num2} es: {multiplicacion}\")\n",
        "print(f\"La división de {num1} entre {num2} es: {division}\")\n"
      ],
      "metadata": {
        "id": "JU1C6BVQClid"
      },
      "execution_count": null,
      "outputs": []
    }
  ]
}