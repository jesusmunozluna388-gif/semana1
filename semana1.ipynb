{
  "nbformat": 4,
  "nbformat_minor": 0,
  "metadata": {
    "colab": {
      "provenance": [],
      "authorship_tag": "ABX9TyNn5LM9CwM27yVM2va7S8hP",
      "include_colab_link": true
    },
    "kernelspec": {
      "name": "python3",
      "display_name": "Python 3"
    },
    "language_info": {
      "name": "python"
    }
  },
  "cells": [
    {
      "cell_type": "markdown",
      "metadata": {
        "id": "view-in-github",
        "colab_type": "text"
      },
      "source": [
        "<a href=\"https://colab.research.google.com/github/jesusmunozluna388-gif/semana1/blob/main/semana1.ipynb\" target=\"_parent\"><img src=\"https://colab.research.google.com/assets/colab-badge.svg\" alt=\"Open In Colab\"/></a>"
      ]
    },
    {
      "cell_type": "code",
      "execution_count": 1,
      "metadata": {
        "colab": {
          "base_uri": "https://localhost:8080/"
        },
        "id": "ztaXr_VP87xw",
        "outputId": "3a417bdc-c4bd-497b-9423-30a4d8f6ec60"
      },
      "outputs": [
        {
          "output_type": "stream",
          "name": "stdout",
          "text": [
            "Datos del Estudiante:\n",
            "Nombre: Juan Pérez\n",
            "Edad: 20 años\n",
            "¿Cuál es tu asignatura favorita? calculo \n",
            "¡Qué bien! Tu asignatura favorita es calculo .\n"
          ]
        }
      ],
      "source": [
        " # 1. Variables y tipos de datos\n",
        " nombre_estudiante = \"Juan Pérez\"\n",
        " edad = 20\n",
        " promedio = 4.2\n",
        " es_regular = True\n",
        " # 2. La función print() para mostrar información\n",
        " print(\"Datos del Estudiante:\")\n",
        " print(\"Nombre:\", nombre_estudiante)\n",
        " print(f\"Edad: {edad} años\") # Usando f-strings, una forma moderna y útil\n",
        " # 3. La función input() para recibir datos del usuario\n",
        " asignatura_favorita = input(\"¿Cuál es tu asignatura favorita? \")\n",
        " print(f\"¡Qué bien! Tu asignatura favorita es {asignatura_favorita}.\")\n",
        ""
      ]
    }
  ]
}